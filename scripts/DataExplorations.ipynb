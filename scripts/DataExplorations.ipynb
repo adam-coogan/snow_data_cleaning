{
 "cells": [
  {
   "cell_type": "code",
   "execution_count": 1,
   "metadata": {
    "collapsed": true
   },
   "outputs": [],
   "source": [
    "import numpy as np\n",
    "from ModelTest import *\n",
    "import pandas as pd\n",
    "from Utilities import obsFrac, getMidnightNoonIdx\n",
    "from SSMTools import *\n",
    "#from Utilities import ding"
   ]
  },
  {
   "cell_type": "code",
   "execution_count": 2,
   "metadata": {
    "collapsed": true
   },
   "outputs": [],
   "source": [
    "colors = 2*[c[\"color\"] for c in plt.rcParams[\"axes.prop_cycle\"]]"
   ]
  },
  {
   "cell_type": "markdown",
   "metadata": {},
   "source": [
    "## Looking at original data provided by Eric"
   ]
  },
  {
   "cell_type": "code",
   "execution_count": 3,
   "metadata": {
    "collapsed": true
   },
   "outputs": [],
   "source": [
    "df_cleaned = loadAndClean(\"../output/site_1_cleaned_T.csv\", toDrop=['snowdepth_2', 'snowdepth_10', 'Unnamed: 0', 'Unnamed: 0.1', 'datetime'])\n",
    "for i in range(1, 11):\n",
    "    df_cleaned.drop('temperature_%i'%i, axis=1, inplace=True)\n",
    "fullData = df_cleaned.values"
   ]
  },
  {
   "cell_type": "code",
   "execution_count": 4,
   "metadata": {
    "collapsed": true
   },
   "outputs": [],
   "source": [
    "df_temp = pd.read_csv(\"../output/site_1_cleaned_T.csv\").drop(['temperature_2', 'temperature_10', 'Unnamed: 0', 'Unnamed: 0.1', 'datetime'], axis=1)\n",
    "for i in range(1, 11):\n",
    "    df_temp.drop('snowdepth_%i'%i, axis=1, inplace=True)\n",
    "tempData = df_temp.values"
   ]
  },
  {
   "cell_type": "code",
   "execution_count": 5,
   "metadata": {
    "collapsed": true
   },
   "outputs": [],
   "source": [
    "dateTimes = pd.read_csv(\"../output/site_1_cleaned_T.csv\").drop(['Unnamed: 0', 'Unnamed: 0.1']\n",
    "                                                               + [\"snowdepth_%i\"%i for i in range(1, 11)]\n",
    "                                                               + [\"temperature_%i\"%i for i in range(1, 11)], axis=1).values.flatten()"
   ]
  },
  {
   "cell_type": "markdown",
   "metadata": {},
   "source": [
    "### Histogram of gap sizes"
   ]
  },
  {
   "cell_type": "code",
   "execution_count": 6,
   "metadata": {
    "collapsed": true
   },
   "outputs": [],
   "source": [
    "genChunkTestSets(fullData, 100, 200, 20, dirName=\"test_data/intervalLen_200_gapSize_20/\")"
   ]
  },
  {
   "cell_type": "code",
   "execution_count": 7,
   "metadata": {
    "collapsed": true
   },
   "outputs": [],
   "source": [
    "gapSizes = []\n",
    "\n",
    "tStart = 4000\n",
    "\n",
    "for series in fullData.T:\n",
    "    curGapSizes = []\n",
    "    \n",
    "    curGapSize = 0\n",
    "    # Loop over values in series\n",
    "    for v in series[tStart:]:\n",
    "        if np.isnan(v):\n",
    "            curGapSize = curGapSize + 1\n",
    "        elif curGapSize > 0:\n",
    "            # Append current gap size if it's nonzero and a non-nan value was encountered\n",
    "            gapSizes.append(curGapSize)\n",
    "            curGapSize = 0\n",
    "    \n",
    "# Get total list of gap sizes for the whole dataset\n",
    "gapSizes = np.asarray(gapSizes)"
   ]
  },
  {
   "cell_type": "code",
   "execution_count": 8,
   "metadata": {
    "collapsed": false
   },
   "outputs": [
    {
     "data": {
      "text/plain": [
       "<matplotlib.text.Text at 0x113102b10>"
      ]
     },
     "execution_count": 8,
     "metadata": {},
     "output_type": "execute_result"
    },
    {
     "data": {
      "image/png": "[encoded data removed]",
      "text/plain": [
       "<matplotlib.figure.Figure at 0x112c3b3d0>"
      ]
     },
     "metadata": {},
     "output_type": "display_data"
    }
   ],
   "source": [
    "plt.hist(gapSizes, bins=50, range=[0, 600])\n",
    "plt.yscale(\"log\")\n",
    "plt.xlabel(\"Gap size\")\n",
    "plt.ylabel(\"Frequency\")"
   ]
  },
  {
   "cell_type": "code",
   "execution_count": null,
   "metadata": {
    "collapsed": true
   },
   "outputs": [],
   "source": []
  }
 ],
 "metadata": {
  "kernelspec": {
   "display_name": "Python 2",
   "language": "python",
   "name": "python2"
  },
  "language_info": {
   "codemirror_mode": {
    "name": "ipython",
    "version": 2
   },
   "file_extension": ".py",
   "mimetype": "text/x-python",
   "name": "python",
   "nbconvert_exporter": "python",
   "pygments_lexer": "ipython2",
   "version": "2.7.9"
  }
 },
 "nbformat": 4,
 "nbformat_minor": 1
}
