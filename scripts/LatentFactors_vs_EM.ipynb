{
 "cells": [
  {
   "cell_type": "code",
   "execution_count": 77,
   "metadata": {
    "collapsed": true
   },
   "outputs": [],
   "source": [
    "import numpy as np\n",
    "from SSMTools import kalmanSmooth, kfSetup, pcaEstMD, logL\n",
    "from Utilities import nanMSE"
   ]
  },
  {
   "cell_type": "markdown",
   "metadata": {},
   "source": [
    "# Note that this is outdated and the likelihood below is incorrect."
   ]
  },
  {
   "cell_type": "markdown",
   "metadata": {},
   "source": [
    "# Model 1\n",
    "$y_t \\sim N(C \\vec{v}_t, R)$ where $\\vec{x}_t$ has nLF dimensions and $\\vec{x}_t \\sim N(0, Q)$. This is just an SSM with $A = 0$."
   ]
  },
  {
   "cell_type": "code",
   "execution_count": 59,
   "metadata": {},
   "outputs": [
    {
     "name": "stdout",
     "output_type": "stream",
     "text": [
      "(10, 3)\n",
      "(100, 3)\n"
     ]
    }
   ],
   "source": [
    "N = 10\n",
    "T = 100\n",
    "\n",
    "u_true = np.random.multivariate_normal([0, 0, 0], np.diag([1, 2, 3]), N)\n",
    "v_true = np.random.multivariate_normal([0, 0, 0], np.diag([1, 1, 1]), T)\n",
    "\n",
    "print u_true.shape\n",
    "print v_true.shape\n",
    "\n",
    "y_true = np.dot(u_true, v_true.T)"
   ]
  },
  {
   "cell_type": "code",
   "execution_count": 60,
   "metadata": {
    "collapsed": true
   },
   "outputs": [],
   "source": [
    "# Remove some data\n",
    "y_degraded = y_true.copy()\n",
    "\n",
    "# Delete 80% of the observations\n",
    "missing_frac = 0.8\n",
    "n_to_delete = int(missing_frac * y_degraded.size)\n",
    "\n",
    "for idx in np.random.randint(0, y_degraded.size, n_to_delete):    \n",
    "    y_degraded[idx / y_degraded.shape[1], idx % y_degraded.shape[1]] = np.nan"
   ]
  },
  {
   "cell_type": "markdown",
   "metadata": {},
   "source": [
    "## Run imputation methods\n",
    "nLF is the dimensionality of the latent representation"
   ]
  },
  {
   "cell_type": "code",
   "execution_count": 61,
   "metadata": {
    "collapsed": true
   },
   "outputs": [],
   "source": [
    "nLF = 3"
   ]
  },
  {
   "cell_type": "markdown",
   "metadata": {},
   "source": [
    "### Latent factor model"
   ]
  },
  {
   "cell_type": "code",
   "execution_count": 130,
   "metadata": {
    "collapsed": true
   },
   "outputs": [],
   "source": [
    "def lf_decomp(y, y_true, u_i, v_i, n_steps, step_size, beta_reg):\n",
    "    \"\"\"\n",
    "    Computes latent factor decomposition using gradient descent\n",
    "    \n",
    "    Arguments\n",
    "    -y: n x m array of data\n",
    "    -u_i: n x n_LF guess for latent factor matrix\n",
    "    -v_i: m x n_LF guess for latent factor matrix\n",
    "    \n",
    "    Returns: latent factor matrices\n",
    "    \"\"\"\n",
    "    # Observed points that are not in the training set\n",
    "    y_test = y_true.copy()\n",
    "    y_test[np.where(~np.isnan(y))] = np.nan\n",
    "    \n",
    "    u = u_i.copy()\n",
    "    v = v_i.copy()\n",
    "    \n",
    "    # Keep track of MSE at each step\n",
    "    mses = np.zeros(n_steps + 1)\n",
    "    mses[0] = nanMSE(y_true, np.dot(u, v.T))\n",
    "    \n",
    "    for step in xrange(n_steps):\n",
    "        # Error matrix\n",
    "        e = y - np.dot(u, v.T)\n",
    "        # Set errors for unobserved values equal to zero so they're\n",
    "        # ignored in gradient descent update step\n",
    "        e[np.isnan(y)] = 0.0\n",
    "        \n",
    "        # Carefully update the latent factors\n",
    "        u_next = u * (1.0 - step_size * beta_reg) + step_size * np.dot(e, v)\n",
    "        v = v * (1.0 - step_size * beta_reg) + step_size * np.dot(e.T, u)\n",
    "        u = u_next\n",
    "        \n",
    "        # Compute MSE\n",
    "        mses[step + 1] = nanMSE(y_test, np.dot(u, v.T))\n",
    "        \n",
    "    return u, v, mses"
   ]
  },
  {
   "cell_type": "markdown",
   "metadata": {},
   "source": [
    "Run LF algorithm. Probably could initialize more intelligently..."
   ]
  },
  {
   "cell_type": "code",
   "execution_count": 131,
   "metadata": {
    "collapsed": true
   },
   "outputs": [],
   "source": [
    "def lf_impute(y, y_true, nLF, n_steps=1000, step_size=1e-5, beta_reg=0.0):\n",
    "    u_i = np.random.multivariate_normal(nLF*[0], np.diag(nLF*[1]), size=N)\n",
    "    v_i = np.random.multivariate_normal(nLF*[0], np.diag(nLF*[1]), size=T)\n",
    "    \n",
    "    u_lf, v_lf, mses = lf_decomp(y, y_true, u_i, v_i, n_steps, step_size, beta_reg)\n",
    "    \n",
    "    return np.dot(u_lf, v_lf.T), mses"
   ]
  },
  {
   "cell_type": "markdown",
   "metadata": {},
   "source": [
    "### State space EM"
   ]
  },
  {
   "cell_type": "code",
   "execution_count": 64,
   "metadata": {
    "collapsed": true
   },
   "outputs": [],
   "source": [
    "A = np.zeros(2*[nLF])"
   ]
  },
  {
   "cell_type": "code",
   "execution_count": 65,
   "metadata": {
    "collapsed": true
   },
   "outputs": [],
   "source": [
    "def m_step_1(y_imp, x_hat, P):\n",
    "    N, T = y_imp.shape\n",
    "    \n",
    "    # Observation matrix\n",
    "    C_new = np.dot(np.dot(y_imp, x_hat.T), np.linalg.pinv(np.sum(P, axis=0)))\n",
    "    # Observation covariance\n",
    "    R_new = 1.0 / float(T) * (np.dot(y_imp, y_imp.T) - np.dot(C_new, np.dot(x_hat, y_imp.T)))\n",
    "    \n",
    "    # State noise covariance\n",
    "    Q_new = 1.0 / (T - 1.0) * np.sum(P[1:], axis=0)\n",
    "    \n",
    "    # Initial state mean\n",
    "    pi0_new = x_hat[:, 0]\n",
    "    # Initial state covariance\n",
    "    sigma0_new = P[0, :, :] - np.outer(x_hat[:, 0], x_hat[:, 0].T)\n",
    "    \n",
    "    return C_new, R_new, Q_new, pi0_new, sigma0_new"
   ]
  },
  {
   "cell_type": "code",
   "execution_count": 133,
   "metadata": {
    "collapsed": true
   },
   "outputs": [],
   "source": [
    "def ssmem_impute(y, y_true, nLF, n_steps=100):\n",
    "    # Observed points that are not in the training set\n",
    "    y_test = y_true.copy()\n",
    "    y_test[np.where(~np.isnan(y))] = np.nan\n",
    "    \n",
    "    # Keep track of MSE at each step\n",
    "    mses_test = np.zeros(n_steps + 1)\n",
    "    \n",
    "    # Keep track of log likelihood\n",
    "    log_L = np.zeros(n_steps + 1)\n",
    "    \n",
    "    # Randomly initialize observation matrix and hidden state\n",
    "    x_hat = np.random.multivariate_normal(nLF*[0], np.diag(nLF*[1]), size=T).T\n",
    "    C = np.random.multivariate_normal(nLF*[0], np.diag(nLF*[1]), size=N)\n",
    "    \n",
    "    # Initialize the SSM\n",
    "    pi0, sigma0, A, Q, R = kfSetup(y, C, x_hat, nLF)\n",
    "    \n",
    "    # Run EM\n",
    "    for i in range(n_steps):\n",
    "        # E step (ie, run Kalman smoother)\n",
    "        x_hat, sigma_s, _, y_ssm1, _ = kalmanSmooth(y, pi0, sigma0, A, C, Q, R, nLF)\n",
    "        \n",
    "        # Compute MSE\n",
    "        mses_test[i] = nanMSE(y_test, y_ssm1)\n",
    "\n",
    "        # Compute log(L)\n",
    "        log_L[i] = np.sum(logL(x_hat, y, pi0, sigma0, A, C, Q, R))\n",
    "        # Need to add contribution from covariance matrices\n",
    "        log_L[i] = log_L[i] - 0.5 * T * np.log(np.linalg.det(R)) - 0.5 * (T - 1) * np.log(np.linalg.det(Q))\n",
    "\n",
    "        # Second moment\n",
    "        P = np.zeros((T, nLF, nLF))\n",
    "        for t in range(T):\n",
    "            P[t, :, :] = sigma_s[t, :, :] + np.outer(x_hat[:, t], x_hat[:, t].T)\n",
    "\n",
    "        # M step\n",
    "        C, R, Q, pi0, sigma0 = m_step_1(y_ssm1, x_hat, P)\n",
    "\n",
    "    # Re-estimate hidden state one last time\n",
    "    _, _, _, y_ssm1, _ = kalmanSmooth(y, pi0, sigma0, A, C, Q, R, nLF)\n",
    "    \n",
    "    # Compute final MSE\n",
    "    mses_test[n_steps] = nanMSE(y_test, y_ssm1)\n",
    "    \n",
    "    # Compute final log(L)\n",
    "    log_L[n_steps] = np.sum(logL(x_hat, y, pi0, sigma0, A, C, Q, R))\n",
    "    \n",
    "    return y_ssm1, mses_test, log_L"
   ]
  },
  {
   "cell_type": "markdown",
   "metadata": {},
   "source": [
    "## Compute MSEs\n",
    "Also test dynamic factor model PCA estimator"
   ]
  },
  {
   "cell_type": "code",
   "execution_count": 67,
   "metadata": {
    "collapsed": true
   },
   "outputs": [],
   "source": [
    "y_pca, C, x_hat_pca = pcaEstMD(y_degraded, nLF, 1000)"
   ]
  },
  {
   "cell_type": "code",
   "execution_count": 68,
   "metadata": {
    "collapsed": true
   },
   "outputs": [],
   "source": [
    "y_lf, mses_lf = lf_impute(y_degraded, y_true, nLF, n_steps=100000)"
   ]
  },
  {
   "cell_type": "code",
   "execution_count": 134,
   "metadata": {
    "collapsed": true
   },
   "outputs": [],
   "source": [
    "y_ssm1, mses_test_ssm1, logL_ssm1 = ssmem_impute(y_degraded, y_true, nLF, n_steps=100)"
   ]
  },
  {
   "cell_type": "code",
   "execution_count": 140,
   "metadata": {},
   "outputs": [
    {
     "data": {
      "text/plain": [
       "<matplotlib.text.Text at 0x11e427ad0>"
      ]
     },
     "execution_count": 140,
     "metadata": {},
     "output_type": "execute_result"
    },
    {
     "data": {
      "image/png": "[encoded data removed]",
      "text/plain": [
       "<matplotlib.figure.Figure at 0x11af168d0>"
      ]
     },
     "metadata": {},
     "output_type": "display_data"
    }
   ],
   "source": [
    "plt.figure(figsize=(12, 3))\n",
    "\n",
    "plt.subplot(1, 2, 1)\n",
    "plt.plot(mses_lf)\n",
    "plt.title(\"Latent factor model\")\n",
    "plt.xlabel(\"Step\")\n",
    "plt.ylabel(\"Test MSE\")\n",
    "\n",
    "plt.subplot(1, 2, 2)\n",
    "plt.plot(mses_test_ssm1, label=\"Test\")\n",
    "plt.title(\"SSM-EM\")\n",
    "plt.xlabel(\"Step\")\n",
    "plt.ylabel(\"Test MSE\")\n",
    "\n",
    "# plt.subplot(1, 3, 3)\n",
    "# plt.plot(logL_ssm1) \n",
    "# plt.title(\"SSM-EM\")\n",
    "# plt.xlabel(\"Step\")\n",
    "# plt.ylabel(\"log(L)\")"
   ]
  },
  {
   "cell_type": "code",
   "execution_count": 39,
   "metadata": {},
   "outputs": [
    {
     "name": "stdout",
     "output_type": "stream",
     "text": [
      "80.000000 missing data\n",
      "\n",
      "Latent factor model: 0.618281\n",
      "SSM-EM: 2.860794\n",
      "PCA: 0.197068\n"
     ]
    }
   ],
   "source": [
    "print \"%f missing data\\n\" % (missing_frac * 100)\n",
    "print \"Latent factor model: %f\" % nanMSE(y, y_lf)\n",
    "print \"SSM-EM: %f\" % nanMSE(y, y_ssm1)\n",
    "print \"PCA: %f\" % nanMSE(y, y_pca)"
   ]
  },
  {
   "cell_type": "code",
   "execution_count": null,
   "metadata": {
    "collapsed": true
   },
   "outputs": [],
   "source": []
  }
 ],
 "metadata": {
  "kernelspec": {
   "display_name": "Python 2",
   "language": "python",
   "name": "python2"
  },
  "language_info": {
   "codemirror_mode": {
    "name": "ipython",
    "version": 2
   },
   "file_extension": ".py",
   "mimetype": "text/x-python",
   "name": "python",
   "nbconvert_exporter": "python",
   "pygments_lexer": "ipython2",
   "version": "2.7.13"
  }
 },
 "nbformat": 4,
 "nbformat_minor": 2
}
